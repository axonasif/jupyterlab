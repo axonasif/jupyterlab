{
 "cells": [
  {
   "cell_type": "code",
   "execution_count": 1,
   "id": "fe24b9d2-8758-44dd-bdf6-fd1abdd30dee",
   "metadata": {},
   "outputs": [
    {
     "ename": "ModuleNotFoundError",
     "evalue": "No module named 'dotenv'",
     "output_type": "error",
     "traceback": [
      "\u001b[0;31m---------------------------------------------------------------------------\u001b[0m",
      "\u001b[0;31mModuleNotFoundError\u001b[0m                       Traceback (most recent call last)",
      "Cell \u001b[0;32mIn[1], line 5\u001b[0m\n\u001b[1;32m      3\u001b[0m \u001b[38;5;28;01mimport\u001b[39;00m \u001b[38;5;21;01mjson\u001b[39;00m\n\u001b[1;32m      4\u001b[0m \u001b[38;5;28;01mfrom\u001b[39;00m \u001b[38;5;21;01mdatetime\u001b[39;00m \u001b[38;5;28;01mimport\u001b[39;00m datetime\n\u001b[0;32m----> 5\u001b[0m \u001b[38;5;28;01mfrom\u001b[39;00m \u001b[38;5;21;01mdotenv\u001b[39;00m \u001b[38;5;28;01mimport\u001b[39;00m load_dotenv\n\u001b[1;32m      7\u001b[0m os\u001b[38;5;241m.\u001b[39menviron[\u001b[38;5;124m'\u001b[39m\u001b[38;5;124mTZ\u001b[39m\u001b[38;5;124m'\u001b[39m] \u001b[38;5;241m=\u001b[39m \u001b[38;5;124m'\u001b[39m\u001b[38;5;124mUTC\u001b[39m\u001b[38;5;124m'\u001b[39m\n\u001b[1;32m      8\u001b[0m load_dotenv()\n",
      "\u001b[0;31mModuleNotFoundError\u001b[0m: No module named 'dotenv'"
     ]
    }
   ],
   "source": [
    "import ccxt\n",
    "import os\n",
    "import json\n",
    "from datetime import datetime\n",
    "from dotenv import load_dotenv\n",
    "\n",
    "os.environ['TZ'] = 'UTC'\n",
    "load_dotenv()"
   ]
  },
  {
   "cell_type": "code",
   "execution_count": null,
   "id": "411716a5-920e-42cf-a1a0-08c50808297f",
   "metadata": {},
   "outputs": [],
   "source": [
    "\n",
    "def format_filename_date(timestamp):\n",
    "    date = datetime.utcfromtimestamp(timestamp / 1000)\n",
    "    return date.strftime('%Y-%m-%d')"
   ]
  },
  {
   "cell_type": "code",
   "execution_count": null,
   "id": "b388f8c5-bb1c-456d-8e35-c065e2b68207",
   "metadata": {},
   "outputs": [],
   "source": [
    "def fetch_all_ohlcv_data(exchange_id, symbol, start_date, end_date, timeframe):\n",
    "    try:\n",
    "        api_key = os.getenv(f'{exchange_id.upper()}_API_KEY')\n",
    "        secret = os.getenv(f'{exchange_id.upper()}_API_SECRET')\n",
    "        exchange_class = getattr(ccxt, exchange_id)\n",
    "        exchange = exchange_class({'apiKey': api_key, 'secret': secret}) if api_key and secret else exchange_class()\n",
    "\n",
    "        if exchange.has['fetchOHLCV']:\n",
    "            all_ohlcv_data = []\n",
    "            # Append \"T00:00:00Z\" to start and end dates to ensure correct parsing\n",
    "            since = exchange.parse8601(f\"{start_date}T00:00:00Z\")\n",
    "            until = exchange.parse8601(f\"{end_date}T23:59:59Z\")\n",
    "            limit = 500  # or exchange's maximum limit if known\n",
    "\n",
    "            while since < until:\n",
    "                ohlcv_data = exchange.fetch_ohlcv(symbol, timeframe, since, limit)\n",
    "                if ohlcv_data:\n",
    "                    since = ohlcv_data[-1][0] + 1\n",
    "                    all_ohlcv_data.extend(ohlcv_data)\n",
    "                    print(f'Fetched data points up to {format_filename_date(ohlcv_data[-1][0])}')\n",
    "                else:\n",
    "                    break\n",
    "\n",
    "            filtered_ohlcv_data = [\n",
    "                {'Time': d[0], 'Open': d[1], 'High': d[2], 'Low': d[3], 'Close': d[4], 'Volume': d[5]}\n",
    "                for d in all_ohlcv_data if d[0] <= until\n",
    "            ]\n",
    "\n",
    "            dir_path = './data'\n",
    "            os.makedirs(dir_path, exist_ok=True)\n",
    "            file_name = f\"{dir_path}/{symbol.replace('/', '')}_{timeframe}.json\"\n",
    "            with open(file_name, 'w') as file:\n",
    "                json.dump(filtered_ohlcv_data, file, indent=2)\n",
    "\n",
    "            print(f'Data saved to {file_name}')\n",
    "            return filtered_ohlcv_data\n",
    "        else:\n",
    "            print(f'Exchange {exchange_id} does not support fetchOHLCV.')\n",
    "            return None\n",
    "    except Exception as error:\n",
    "        print(f'Error fetching data from {exchange_id}: {error}')"
   ]
  },
  {
   "cell_type": "code",
   "execution_count": null,
   "id": "697fade8-6247-4516-bdff-d051f5b4c6cf",
   "metadata": {},
   "outputs": [],
   "source": [
    "# Call the function directly\n",
    "fetch_all_ohlcv_data(\n",
    "    \"binance\",\n",
    "    \"SOL/USDT\",\n",
    "    \"2022-01-01\",\n",
    "    \"2023-12-31\",\n",
    "    \"1m\"\n",
    ")"
   ]
  }
 ],
 "metadata": {
  "kernelspec": {
   "display_name": "Python 3 (ipykernel)",
   "language": "python",
   "name": "python3"
  },
  "language_info": {
   "codemirror_mode": {
    "name": "ipython",
    "version": 3
   },
   "file_extension": ".py",
   "mimetype": "text/x-python",
   "name": "python",
   "nbconvert_exporter": "python",
   "pygments_lexer": "ipython3",
   "version": "3.12.4"
  }
 },
 "nbformat": 4,
 "nbformat_minor": 5
}
