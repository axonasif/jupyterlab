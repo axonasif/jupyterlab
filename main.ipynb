{
 "cells": [
  {
   "cell_type": "code",
   "execution_count": null,
   "id": "6a68e9ce-6be9-427f-9eb0-f48740172870",
   "metadata": {},
   "outputs": [],
   "source": [
    "    # Import necessary libraries\n",
    "import requests\n",
    "import pytz\n",
    "import pandas as pd\n",
    "from functions.ind_zigzag import calculate_zigzag\n",
    "from functions.ind_zigzag_interp import zigzag_interp\n",
    "from functions.ind_ema import calculate_ema\n",
    "import plotly.graph_objects as go"
   ]
  },
  {
   "cell_type": "code",
   "execution_count": null,
   "id": "3f53ee9c-f656-4aae-b460-729502d49633",
   "metadata": {},
   "outputs": [],
   "source": [
    "def fetch_ohlcv_data(symbol, interval, limit):\n",
    "    # Binance Futures API endpoint for OHLCV data (USDⓈ-M Futures)\n",
    "    base_url = \"https://fapi.binance.com\"\n",
    "    endpoint = \"/fapi/v1/klines\"\n",
    "\n",
    "    # Convert the interval to milliseconds\n",
    "    # Note: Binance US API expects interval in format like '1m', '1h', '1d'\n",
    "    params = {\n",
    "        'symbol': symbol,\n",
    "        'interval': interval,\n",
    "        'limit': limit\n",
    "    }\n",
    "\n",
    "    try:\n",
    "        response = requests.get(base_url + endpoint, params=params)\n",
    "        response.raise_for_status()  # Will raise an HTTPError if the HTTP request returned an unsuccessful status code\n",
    "        data = response.json()\n",
    "        return data\n",
    "    except requests.exceptions.HTTPError as err:\n",
    "        print(f\"HTTP error occurred: {err}\")\n",
    "    except Exception as e:\n",
    "        print(f\"Other error occurred: {e}\")\n",
    "\n",
    "    return None"
   ]
  },
  {
   "cell_type": "code",
   "execution_count": null,
   "id": "dfbc6734-0ba0-486b-8978-5cf172065e3d",
   "metadata": {},
   "outputs": [],
   "source": [
    "# Function to preprocess the data into pandas DataFrame\n",
    "def preprocess_ohlcv_data(data):\n",
    "    df = pd.DataFrame(data, columns=['Time', 'Open', 'High', 'Low', 'Close', 'Volume', 'Close time', 'Quote asset volume', 'Number of trades', 'Taker buy base asset volume', 'Taker buy quote asset volume', 'Ignore'])\n",
    "    df['Time'] = pd.to_datetime(df['Time'], unit='ms')\n",
    "    # Convert UTC to EST\n",
    "    est = pytz.timezone('US/Eastern')\n",
    "    df['Time'] = df['Time'].dt.tz_localize('UTC').dt.tz_convert(est)\n",
    "    df.set_index('Time', inplace=True)\n",
    "    for column in ['Open', 'High', 'Low', 'Close', 'Volume']:\n",
    "        df[column] = df[column].astype(float)\n",
    "    return df"
   ]
  },
  {
   "cell_type": "code",
   "execution_count": null,
   "id": "e19f0ea8-733a-4f2f-b614-e6f06767125e",
   "metadata": {},
   "outputs": [],
   "source": [
    "def plot_symbol_data(symbol, interval, limit, deviation_percent, pivot_legs, candlestick_transparency=0.6):\n",
    "    data = fetch_ohlcv_data(symbol, interval, limit)\n",
    "    data_df = preprocess_ohlcv_data(data)\n",
    "    data_path, retraces = calculate_zigzag(data_df, deviation_percent, pivot_legs)\n",
    "    data_path.set_index('Time', inplace=True)\n",
    "    ema_20 = calculate_ema(data_df)\n",
    "    data_interp = zigzag_interp(data_path)\n",
    "    data_interp.set_index('Time', inplace=True)\n",
    "    \n",
    "    # Create hover texts\n",
    "    hover_texts_fp1 = [f\"Price: {row['Price']}<br>% Change: {round(row['Percentage Change'], 1)}\" for idx, row in data_path.iterrows()]\n",
    "    hover_texts_fp2 = [f\"Price: {row['Price']}<br>% Change: {round(row['Percentage Change'], 1)}\" for idx, row in data_interp.iterrows()]\n",
    "    \n",
    "    # Create plot\n",
    "    fig = go.Figure(data=[go.Candlestick(\n",
    "        x=data_df.index,\n",
    "        open=data_df['Open'],\n",
    "        high=data_df['High'],\n",
    "        low=data_df['Low'],\n",
    "        close=data_df['Close'],\n",
    "        name='OHLC',\n",
    "        opacity=candlestick_transparency)])\n",
    "    fig.add_trace(go.Scatter(x=data_path.index, y=data_path['Price'], mode='lines', name='FP\\'1', line=dict(color='black', width=1.0), text=hover_texts_fp1, hoverinfo='text'))\n",
    "    fig.add_trace(go.Scatter(x=data_interp.index, y=data_interp['Price'], mode='lines+markers', name='FP\\'2', line=dict(color='blue', width=1.5), text=hover_texts_fp2, hoverinfo='text'))\n",
    "    fig.add_trace(go.Scatter(x=ema_20.index, y=ema_20['EMA_20'], mode='lines', name='EMA-20', line=dict(color='black', width=0.5)))\n",
    "    \n",
    "    # Update layout\n",
    "    fig.update_layout(title=f'{symbol}', xaxis_title='Date', yaxis_title='Price', width=1800, height=800)\n",
    "    fig.update_layout(xaxis_rangeslider_visible=False)\n",
    "    fig.show()"
   ]
  },
  {
   "cell_type": "code",
   "execution_count": null,
   "id": "cee854ce-e935-4eea-b5a0-057e15860133",
   "metadata": {},
   "outputs": [],
   "source": [
    "# Define overall parameters here -->\n",
    "interval = '1h'\n",
    "limit = 300\n",
    "\n",
    "deviation_percent = 1  # % change for a new trend\n",
    "pivot_legs = 3         # Number of bars for pivot legs\n",
    "\n",
    "candlestick_transparency = 0.6\n",
    "line_thickness = 1.5"
   ]
  },
  {
   "cell_type": "code",
   "execution_count": null,
   "id": "111a2d97-d593-4956-89a1-4b85f72dacab",
   "metadata": {},
   "outputs": [],
   "source": [
    "# Run plots\n",
    "symbols = ['ETHUSDT', 'BTCUSDT', 'SOLUSDT', 'XRPUSDT', 'ADAUSDT', 'AVAXUSDT', 'DOGEUSDT', 'TRXUSDT', 'DOTUSDT', 'LINKUSDT']  # Add more symbols as needed\n",
    "for symbol in symbols:\n",
    "    plot_symbol_data(symbol, interval, limit, deviation_percent, pivot_legs) "
   ]
  }
 ],
 "metadata": {
  "kernelspec": {
   "display_name": "Python 3 (ipykernel)",
   "language": "python",
   "name": "python3"
  },
  "language_info": {
   "codemirror_mode": {
    "name": "ipython",
    "version": 3
   },
   "file_extension": ".py",
   "mimetype": "text/x-python",
   "name": "python",
   "nbconvert_exporter": "python",
   "pygments_lexer": "ipython3",
   "version": "3.12.4"
  }
 },
 "nbformat": 4,
 "nbformat_minor": 5
}
