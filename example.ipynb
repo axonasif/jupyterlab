{
 "cells": [
  {
   "cell_type": "code",
   "execution_count": null,
   "id": "2b238e86-8a98-4bf0-8a33-40fad27d313f",
   "metadata": {},
   "outputs": [],
   "source": [
    "# Import necessary libraries\n",
    "import numpy as np\n",
    "import matplotlib.pyplot as plt\n",
    "import pandas as pd"
   ]
  },
  {
   "cell_type": "code",
   "execution_count": null,
   "id": "41facf1d-f40a-4e8e-9988-61ab98356ea3",
   "metadata": {},
   "outputs": [],
   "source": [
    "# Create a simple dataset\n",
    "data = {\n",
    "    'x': np.arange(0, 10, 0.1),\n",
    "    'sin': np.sin(np.arange(0, 10, 0.1)),\n",
    "    'cos': np.cos(np.arange(0, 10, 0.1))\n",
    "}\n",
    "df = pd.DataFrame(data)"
   ]
  },
  {
   "cell_type": "code",
   "execution_count": null,
   "id": "ae5dc14f-4f52-455d-948d-d74920a8c730",
   "metadata": {},
   "outputs": [],
   "source": [
    "# Display the first few rows of the dataframe\n",
    "print(df.head())"
   ]
  },
  {
   "cell_type": "code",
   "execution_count": null,
   "id": "9b59261b-8eaa-4c17-b2df-96767a3b8c0e",
   "metadata": {},
   "outputs": [],
   "source": [
    "# Create a line plot\n",
    "plt.figure(figsize=(10, 6))\n",
    "plt.plot(df['x'], df['sin'], label='sin(x)')\n",
    "plt.plot(df['x'], df['cos'], label='cos(x)')\n",
    "plt.title('Sine and Cosine Functions')\n",
    "plt.xlabel('x')\n",
    "plt.ylabel('y')\n",
    "plt.legend()\n",
    "plt.grid(True)\n",
    "plt.show()"
   ]
  },
  {
   "cell_type": "code",
   "execution_count": null,
   "id": "11e5f8b7-790e-489b-a338-c828dcf469e2",
   "metadata": {},
   "outputs": [],
   "source": [
    "# Create a scatter plot\n",
    "plt.figure(figsize=(10, 6))\n",
    "plt.scatter(df['x'], df['sin'], label='sin(x)', alpha=0.5)\n",
    "plt.scatter(df['x'], df['cos'], label='cos(x)', alpha=0.5)\n",
    "plt.title('Scatter Plot of Sine and Cosine Functions')\n",
    "plt.xlabel('x')\n",
    "plt.ylabel('y')\n",
    "plt.legend()\n",
    "plt.grid(True)\n",
    "plt.show()"
   ]
  },
  {
   "cell_type": "code",
   "execution_count": null,
   "id": "0a141566-4417-4df0-b767-5bfc4155b20f",
   "metadata": {},
   "outputs": [],
   "source": [
    "# Create a histogram\n",
    "plt.figure(figsize=(10, 6))\n",
    "plt.hist(df['sin'], bins=30, alpha=0.5, label='sin(x)')\n",
    "plt.hist(df['cos'], bins=30, alpha=0.5, label='cos(x)')\n",
    "plt.title('Histogram of Sine and Cosine Values')\n",
    "plt.xlabel('Value')\n",
    "plt.ylabel('Frequency')\n",
    "plt.legend()\n",
    "plt.grid(True)\n",
    "plt.show()"
   ]
  }
 ],
 "metadata": {
  "kernelspec": {
   "display_name": "Python 3 (ipykernel)",
   "language": "python",
   "name": "python3"
  },
  "language_info": {
   "codemirror_mode": {
    "name": "ipython",
    "version": 3
   },
   "file_extension": ".py",
   "mimetype": "text/x-python",
   "name": "python",
   "nbconvert_exporter": "python",
   "pygments_lexer": "ipython3",
   "version": "3.12.4"
  }
 },
 "nbformat": 4,
 "nbformat_minor": 5
}
